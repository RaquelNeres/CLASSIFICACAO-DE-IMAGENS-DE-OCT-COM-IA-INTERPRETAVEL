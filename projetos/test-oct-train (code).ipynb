version https://git-lfs.github.com/spec/v1
oid sha256:b8ec6fe89f02be1d1dbd7de7876c234eec9babf910534d4f5be4b1e64246eaf3
size 1642644
